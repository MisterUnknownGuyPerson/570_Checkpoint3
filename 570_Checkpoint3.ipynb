{
  "nbformat": 4,
  "nbformat_minor": 0,
  "metadata": {
    "colab": {
      "provenance": []
    },
    "kernelspec": {
      "name": "python3",
      "display_name": "Python 3"
    },
    "language_info": {
      "name": "python"
    }
  },
  "cells": [
    {
      "cell_type": "markdown",
      "source": [
        "**DO NOT RUN EVERY BLOCK ONE BY ONE, EACH BLOCK IS UNIQUE AND DOES A SPECIFIC TASK, READ THROUGH THE TOP COMMENT OF EVERY BLOCK**"
      ],
      "metadata": {
        "id": "6YbBOVqPe01D"
      }
    },
    {
      "cell_type": "code",
      "execution_count": null,
      "metadata": {
        "id": "ZBB6QuPXooA4"
      },
      "outputs": [],
      "source": [
        "# Mount Drive\n",
        "from google.colab import drive\n",
        "drive.mount('/content/drive', force_remount=True)"
      ]
    },
    {
      "cell_type": "code",
      "source": [],
      "metadata": {
        "id": "o8uwpjB1fDS9"
      },
      "execution_count": null,
      "outputs": []
    },
    {
      "cell_type": "code",
      "source": [
        "#\n",
        "#\n",
        "# Move zip folder from drive to colab runtime\n",
        "#\n",
        "#\n",
        "\n",
        "import zipfile\n",
        "import shutil\n",
        "import os\n",
        "\n",
        "# Step 1: Copy the zip to Colab's local runtime\n",
        "!cp /content/drive/MyDrive/diffpir_dark/Bright10k256.zip /content/\n",
        "!cp /content/drive/MyDrive/diffpir_dark/Dark10k256.zip /content/\n",
        "\n",
        "# Step 2: Unzip the dataset\n",
        "!unzip -q /content/Bright10k256.zip -d /content/Bright10k256\n",
        "!unzip -q /content/Dark10k256.zip -d /content/Dark10k256"
      ],
      "metadata": {
        "id": "HDJ0f2AtW72N"
      },
      "execution_count": null,
      "outputs": []
    },
    {
      "cell_type": "code",
      "source": [
        "#\n",
        "#\n",
        "# Zip and send back to drive\n",
        "#\n",
        "#\n",
        "\n",
        "import shutil\n",
        "\n",
        "# Define your paths\n",
        "source_folder = \"/content/Dark10k256\"  # Change this to your actual folder path\n",
        "output_zip_path = \"/content/Dark10k256.zip\"\n",
        "drive_dest = \"/content/drive/MyDrive/diffpir_dark/Dark10k256.zip\"\n",
        "\n",
        "# 1. Zip the folder\n",
        "shutil.make_archive(base_name=output_zip_path.replace('.zip', ''), format='zip', root_dir=source_folder)\n",
        "\n",
        "# 2. Move the ZIP to your Google Drive\n",
        "shutil.move(output_zip_path, drive_dest)\n",
        "\n",
        "print(f\"Zipped and moved to: {drive_dest}\")"
      ],
      "metadata": {
        "id": "N6ORS4ZfdY3b"
      },
      "execution_count": null,
      "outputs": []
    },
    {
      "cell_type": "code",
      "source": [
        "#\n",
        "#\n",
        "# Flatten the directory - one folder with all images\n",
        "#\n",
        "#\n",
        "\n",
        "flat_dir = \"/content/Bright10k256_flat\"\n",
        "os.makedirs(flat_dir, exist_ok=True)\n",
        "\n",
        "for root, dirs, files in os.walk(\"/content/Bright10k256\"):\n",
        "    for file in files:\n",
        "        if file.lower().endswith(('.jpg', '.png', '.jpeg', '.bmp')):\n",
        "            src_path = os.path.join(root, file)\n",
        "            dst_path = os.path.join(flat_dir, file)\n",
        "            shutil.copy2(src_path, dst_path)\n",
        "\n",
        "print(f\"Total images collected: {len(os.listdir(flat_dir))}\")"
      ],
      "metadata": {
        "id": "EIAnLMAkXJ6U"
      },
      "execution_count": null,
      "outputs": []
    },
    {
      "cell_type": "code",
      "source": [
        "#\n",
        "#\n",
        "# Resize Images\n",
        "#\n",
        "#\n",
        "\n",
        "import os\n",
        "from PIL import Image\n",
        "\n",
        "# Define source and target directories\n",
        "src_dir = '/content/drive/MyDrive/diffpir_dark/69000_1'\n",
        "dst_dir = '/content/drive/MyDrive/diffpir_dark/69_256'\n",
        "\n",
        "# Create destination folder if it doesn't exist\n",
        "os.makedirs(dst_dir, exist_ok=True)\n",
        "\n",
        "# Loop through and resize\n",
        "for filename in os.listdir(src_dir):\n",
        "    if filename.lower().endswith('.png'):\n",
        "        img_path = os.path.join(src_dir, filename)\n",
        "        save_path = os.path.join(dst_dir, filename)\n",
        "\n",
        "        # Open, resize, and save\n",
        "        with Image.open(img_path) as img:\n",
        "            img_resized = img.resize((256, 256), Image.LANCZOS)  # High-quality resampling\n",
        "            img_resized.save(save_path)\n",
        "\n",
        "print(\"Done resizing all images to 256x256.\")"
      ],
      "metadata": {
        "id": "h3HIkgk2p9zG"
      },
      "execution_count": null,
      "outputs": []
    },
    {
      "cell_type": "code",
      "source": [
        "#\n",
        "#\n",
        "# Darken Images\n",
        "#\n",
        "#\n",
        "\n",
        "import os\n",
        "import numpy as np\n",
        "from PIL import Image, ImageEnhance\n",
        "import random\n",
        "\n",
        "def apply_darkening(image, seed=None):\n",
        "    \"\"\"\n",
        "    Simulate realistic dark image from a bright one using multiple effects:\n",
        "    - Brightness drop\n",
        "    - Contrast reduction\n",
        "    - Color desaturation\n",
        "    - Noise addition\n",
        "    - Gamma adjustment\n",
        "    \"\"\"\n",
        "    if seed is not None:\n",
        "        random.seed(seed)\n",
        "\n",
        "    # 1. Random brightness reduction\n",
        "    brightness_factor = random.uniform(0.4, 0.5)\n",
        "    image = ImageEnhance.Brightness(image).enhance(brightness_factor)\n",
        "\n",
        "    # 2. Reduce contrast slightly\n",
        "    contrast_factor = random.uniform(0.7, 0.9)\n",
        "    image = ImageEnhance.Contrast(image).enhance(contrast_factor)\n",
        "\n",
        "    # 3. Slight desaturation\n",
        "    color_factor = random.uniform(0.6, 0.9)\n",
        "    image = ImageEnhance.Color(image).enhance(color_factor)\n",
        "\n",
        "    # 4. Add realistic noise\n",
        "    img_np = np.array(image).astype(np.float32)\n",
        "\n",
        "    # Normalize to [0, 1]\n",
        "    normalized = img_np / 255.0\n",
        "\n",
        "    # Generate noise\n",
        "    noise = np.random.normal(loc=0.0, scale=1.0, size=img_np.shape)\n",
        "\n",
        "    # Scale noise inversely with brightness\n",
        "    max_noise_strength = 10.0\n",
        "    scaled_noise = noise * (1.0 - normalized) * max_noise_strength\n",
        "\n",
        "    # Apply and clip\n",
        "    img_np += scaled_noise\n",
        "    img_np = np.clip(img_np, 0, 255).astype(np.uint8)\n",
        "\n",
        "    # Convert back to image\n",
        "    image = Image.fromarray(img_np)\n",
        "\n",
        "    # 5. Gamma correction (simulate nonlinear light drop)\n",
        "    gamma = random.uniform(1.7, 2.1)\n",
        "    img_np = np.array(image).astype(np.float32) / 255.0\n",
        "    img_np = np.power(img_np, gamma)\n",
        "    img_np = (img_np * 255).clip(0, 255).astype(np.uint8)\n",
        "    image = Image.fromarray(img_np)\n",
        "\n",
        "    return image\n",
        "\n",
        "bright_dir = '/content/Bright10k256/69000_256'\n",
        "dark_dir = '/content/Dark10k256/69000_256'\n",
        "os.makedirs(dark_dir, exist_ok=True)\n",
        "\n",
        "# Apply enhanced darkening to each image\n",
        "for i, filename in enumerate(os.listdir(bright_dir)):\n",
        "    if filename.lower().endswith('.png'):\n",
        "        path = os.path.join(bright_dir, filename)\n",
        "        save_path = os.path.join(dark_dir, filename)\n",
        "\n",
        "        with Image.open(path) as img:\n",
        "            dark_img = apply_darkening(img, seed=i)  # seed for reproducibility\n",
        "            dark_img.save(save_path)\n",
        "\n",
        "print(\"Realistic darkening complete. Images saved.\")"
      ],
      "metadata": {
        "id": "mLvU6bx7undV"
      },
      "execution_count": null,
      "outputs": []
    },
    {
      "cell_type": "code",
      "source": [
        "#\n",
        "#\n",
        "# Convert JPG to PNG\n",
        "#\n",
        "#\n",
        "\n",
        "from PIL import Image\n",
        "import os\n",
        "\n",
        "# Paths\n",
        "input_dir = '/content/drive/MyDrive/diffpir_dark/BrightImages'\n",
        "output_dir = '/content/drive/MyDrive/diffpir_dark/BrightImages'\n",
        "os.makedirs(output_dir, exist_ok=True)\n",
        "\n",
        "# Loop through all .jpg files and convert to .png\n",
        "for filename in os.listdir(input_dir):\n",
        "    if filename.lower().endswith('.jpg') or filename.lower().endswith('.jpeg'):\n",
        "        img_path = os.path.join(input_dir, filename)\n",
        "        img = Image.open(img_path).convert('RGB')  # Ensure 3 channels\n",
        "        new_filename = os.path.splitext(filename)[0] + '.png'\n",
        "        img.save(os.path.join(output_dir, new_filename))\n",
        "\n",
        "print(\"Conversion complete.\")"
      ],
      "metadata": {
        "id": "BvIXkM3yuw8K"
      },
      "execution_count": null,
      "outputs": []
    },
    {
      "cell_type": "code",
      "source": [
        "#\n",
        "# CHANGE DIRECTORY\n",
        "#\n",
        "%cd /content/drive/MyDrive/diffpir_dark/DiffPIR"
      ],
      "metadata": {
        "id": "OYMrbgNZK5bP"
      },
      "execution_count": null,
      "outputs": []
    },
    {
      "cell_type": "code",
      "source": [
        "# IF YOU GET ERROR ABOUT NOT FINDING THINGS CHANGE DIRECTORY WITH THE COMAND ABOVE\n",
        "#\n",
        "# CODE TO START TRAINING A NEW MODEL\n",
        "#\n",
        "# IT TAKES 2 FOLDERS, ONE WITH BRIGHT IMAGES, ONE WITH DARK IMAGES\n",
        "# EACH IMAGE HAS A CORESPONDING NAMED PAIR\n",
        "\n",
        "!python -m guided_diffusion.train_dark2bright \\\n",
        "    --data_dir_bright /content/Bright10k256_flat \\\n",
        "    --data_dir_dark /content/Dark10k256_flat \\\n",
        "    --image_size 256 \\\n",
        "    --num_channels 128 \\\n",
        "    --num_res_blocks 2 \\\n",
        "    --batch_size 8 \\\n",
        "    --image_cond True \\\n",
        "    --iterations 50000 \\\n",
        "    --log_interval 100 \\\n",
        "    --save_interval 10000 \\\n",
        "    --use_fp16 False"
      ],
      "metadata": {
        "id": "axlF1ejl8fNh"
      },
      "execution_count": null,
      "outputs": []
    },
    {
      "cell_type": "code",
      "source": [
        "# Inference\n",
        "\n",
        "!python main_ddpir_brighten.py"
      ],
      "metadata": {
        "id": "8arEIRPOvDeI"
      },
      "execution_count": null,
      "outputs": []
    }
  ]
}